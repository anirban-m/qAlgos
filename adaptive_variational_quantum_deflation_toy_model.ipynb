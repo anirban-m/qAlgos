{
 "cells": [
  {
   "cell_type": "code",
   "execution_count": 38,
   "metadata": {},
   "outputs": [
    {
     "data": {
      "text/plain": [
       "'\\nAuthor-Anirban Mukherjee\\nDated-10/13/2021\\n\\n'"
      ]
     },
     "execution_count": 38,
     "metadata": {},
     "output_type": "execute_result"
    }
   ],
   "source": [
    "'''\n",
    "In this notebook we carry out the adaptive variant of the \n",
    "Variational quantum deflation algorithm \n",
    "for random 2 site Fermionic Hamiltonians\n",
    "'''\n",
    "'''\n",
    "Author-Anirban Mukherjee\n",
    "Dated-10/13/2021\n",
    "\n",
    "'''"
   ]
  },
  {
   "cell_type": "code",
   "execution_count": 5,
   "metadata": {},
   "outputs": [],
   "source": [
    "def warn(*args, **kwargs):\n",
    "    pass\n",
    "import warnings\n",
    "warnings.warn = warn\n",
    "import numpy\n",
    "import copy\n",
    "import qiskit\n",
    "from qiskit.circuit.random import random_circuit\n",
    "from qiskit.opflow.primitive_ops import PauliSumOp\n",
    "import ipyparallel as ipp\n",
    "from qiskit.aqua.operators.legacy import op_converter\n",
    "from qiskit_nature.converters.second_quantization import QubitConverter\n",
    "from qiskit.providers.aer import AerSimulator\n",
    "from openfermion.linalg import givens_decomposition_square as givensRotns\n",
    "from qiskit.opflow import I,X,Y,Z,StateFn,AbelianGrouper\n",
    "from qiskit_nature.mappers.second_quantization import JordanWignerMapper\n",
    "from openfermion.linalg import givens_decomposition_square as givensRotns\n",
    "from qiskit_nature.problems.second_quantization.electronic.builders import fermionic_op_builder\n",
    "from qiskit_nature.mappers.second_quantization import JordanWignerMapper, ParityMapper\n",
    "from qiskit.quantum_info import Pauli\n",
    "from openfermion.circuits import slater_determinant_preparation_circuit\n",
    "from qiskit import QuantumCircuit,execute,QuantumRegister,ClassicalRegister\n",
    "from qiskit import Aer\n",
    "from joblib import Parallel,delayed\n",
    "from qiskit.aqua.operators import WeightedPauliOperator,Z2Symmetries\n",
    "from qiskit.chemistry.components.variational_forms import UCCSD\n",
    "import scipy\n",
    "import time"
   ]
  },
  {
   "cell_type": "code",
   "execution_count": 6,
   "metadata": {},
   "outputs": [],
   "source": [
    "#Construct Model Hamiltonian\n",
    "def count_gates(pauli_label):\n",
    "    countYgates = sum(map(lambda x : 1 if 'Y' in x else 0, pauli_label))\n",
    "    countXgates = sum(map(lambda x : 1 if 'X' in x else 0, pauli_label))\n",
    "    countZgates = sum(map(lambda x : 1 if 'Z' in x else 0, pauli_label))\n",
    "    return countYgates+countXgates+countZgates\n",
    "def qubitOp(h1,h2):\n",
    "    num_qubits=h1.shape[0]\n",
    "    fer_op=fermionic_op_builder.build_ferm_op_from_ints(h1,h2)\n",
    "    mapper=ParityMapper()\n",
    "    qubit_op=mapper.map(fer_op)\n",
    "    qubit_conv = QubitConverter(mapper, two_qubit_reduction=True, z2symmetry_reduction=\"auto\")\n",
    "    qubit_op = qubit_conv.convert(fer_op, num_qubits//2)\n",
    "    return qubit_op\n",
    "def Hamiltonian(h1=None,h2=None):\n",
    "    if numpy.any(h1)==None:\n",
    "        h1=2*numpy.random.rand(num_qubits,num_qubits)-1\n",
    "        #impose hermiticity on h1\n",
    "        h1=(h1+h1.T)/2.\n",
    "    if numpy.any(h2)==None:    \n",
    "        h2=numpy.zeros((num_qubits,num_qubits,num_qubits,num_qubits))#numpy.random.rand(num_qubits,num_qubits,num_qubits,num_qubits)\n",
    "    #impose eight-fold symmetry\n",
    "        h2=(1/8.)*(h2+numpy.transpose(h2,(3,2,1,0))+numpy.transpose(h2,(0,1,3,2))+numpy.transpose(h2,(1,0,2,3))\n",
    "                      +numpy.transpose(h2,(1,0,3,2))+numpy.transpose(h2,(2,3,1,0))+numpy.transpose(h2,(2,3,0,1))\n",
    "                      +numpy.transpose(h2,(3,2,0,1)))\n",
    "    \n",
    "    qubitH=qubitOp(h1,h2)\n",
    "    Hmat=qubitH.to_matrix(massive=True)\n",
    "    w,v=numpy.linalg.eigh(Hmat)\n",
    "    Eg=w[0]\n",
    "    Ee=w[1]\n",
    "    state_g=v[:,0]\n",
    "    state_e=v[:,1]\n",
    "    return qubitH,Hmat,Eg,Ee,state_g,state_e,h1,h2"
   ]
  },
  {
   "cell_type": "code",
   "execution_count": 7,
   "metadata": {},
   "outputs": [],
   "source": [
    "def commutator(A,B):\n",
    "        B2=WeightedPauliOperator([[-B.paulis[0][0],B.paulis[0][1]]])\n",
    "        return A.multiply(B).add(B2.multiply(A))\n",
    "def commutatorsForGradient(Op):\n",
    "    Op_conj=WeightedPauliOperator([[-1j,Op.paulis[0][1]]])\n",
    "    M=Op.multiply(weighted_H).add(weighted_H.multiply(Op_conj))\n",
    "    Mmat=op_converter.to_matrix_operator(M).matrix\n",
    "    return Mmat\n",
    "def commutatorPool(qubitH,stripZs=False):\n",
    "    def stripZ(label):\n",
    "        label=numpy.array(list(label))\n",
    "        label[label=='Z']='I'\n",
    "        label=''.join(list(label))\n",
    "        return label\n",
    "    #construct commutator pool from the Hamiltonian\n",
    "    pool_H=[WeightedPauliOperator([[1j,qubitH.paulis[i][1]]]) for i in range(len(qubitH.paulis))][1:]\n",
    "    #commutator between operators\n",
    "    commutator_pool=[WeightedPauliOperator([[1j,commutator(op1,op2).paulis[0][1]]]) for op1 in pool_H for op2 in pool_H if count_gates(commutator(op1,op2).paulis[0][1].to_label())>=1]\n",
    "    labels=[commutator_pool[i].paulis[0][1].to_label() for i in range(len(commutator_pool))]\n",
    "    unique_labels=numpy.unique(labels)\n",
    "    if stripZs==True:\n",
    "        new_labels=[]\n",
    "        for i in range(len(unique_labels)):\n",
    "            new_labels.append(stripZ(unique_labels[i]))\n",
    "        unique_labels=numpy.unique(new_labels)    \n",
    "    commutator_pool=[WeightedPauliOperator([[1j,Pauli(unique_labels[i])]]) for i in range(len(unique_labels))]\n",
    "    print(len(commutator_pool))\n",
    "    return commutator_pool\n",
    "def compute_gradient(Op,state):\n",
    "    Op_mat=op_converter.to_matrix_operator(Op).dense_matrix\n",
    "    grad=numpy.abs(state_g@Op_mat@numpy.conjugate(state))**2\n",
    "    return grad\n",
    "def SMO(cost,params,runs=20,tol=1e-4,save_opt_steps=False):\n",
    "    index=1\n",
    "    conv_err=1000\n",
    "    def E_landscape(ind,ang,cost,params):\n",
    "        params1=copy.deepcopy(params)\n",
    "        params1[ind]=params1[ind]+ang #ang\n",
    "        #circ=var_form_base.construct_circuit(parameters=params1)\n",
    "        E=cost(params1)\n",
    "        return E.real\n",
    "    def determine_unknowns(E,cost,params,ind):\n",
    "        L1=E#_landscape(ind,0,params,Hmat)\n",
    "        L2=E_landscape(ind,numpy.pi/4.,cost,params)\n",
    "        L3=E_landscape(ind,-numpy.pi/4.,cost,params)\n",
    "        ratio=(L3-L2)/(2*L1-L2-L3)\n",
    "        a3=(L2+L3)/2.\n",
    "        a2=2*params[ind]-numpy.arctan(ratio)\n",
    "        a1=(L1-a3)/numpy.cos(numpy.arctan(ratio))\n",
    "        return a1,a2,a3\n",
    "    def update(E,cost,params,ind):\n",
    "        a1,a2,a3=determine_unknowns(E,cost,params,ind)\n",
    "        thetaStar=a2/2.+numpy.pi/2. if a1>0 else a2/2.\n",
    "        newParams=copy.deepcopy(params)\n",
    "        newParams[ind]=thetaStar\n",
    "        updEnergy=a3-a1 if a1>0 else a3+a1\n",
    "        return newParams,updEnergy.real\n",
    "    while conv_err>tol and index<runs:\n",
    "        print(\"looped \"+str(index)+\" times\")\n",
    "        Eold=cost(params)\n",
    "        init=0\n",
    "        for i in range(len(params)):#[::-1][0:1]:\n",
    "            #first run sequential minimial optimization (SMO)  for a given multiqubit operator using \n",
    "            #exact analytical form for cost function\n",
    "            if init==0:\n",
    "                E=Eold\n",
    "            ind=i\n",
    "            params,E=update(E,cost,params,ind)\n",
    "            if save_opt_steps==True:\n",
    "                with open('bleximo_test.txt','a') as f:\n",
    "                    Str=[\"{:0.16f}\".format(params[i].real) for i in range(len(params))]\n",
    "                    print('['+','.join(Str)+']'+'#'+\"{:0.16f}\".format(E.real),file=f)\n",
    "            else:\n",
    "                continue\n",
    "            init=init+1  \n",
    "        conv_err=Eold-E\n",
    "        print(\"inner loop error\",conv_err)\n",
    "        index=index+1\n",
    "    res={'fun':E,'x':params}    \n",
    "    return res "
   ]
  },
  {
   "cell_type": "markdown",
   "metadata": {},
   "source": [
    "## Standard Cost Fn. for VQE\n",
    "$E=\\langle\\Psi|H|\\Psi\\rangle$ (cost Fn.)"
   ]
  },
  {
   "cell_type": "code",
   "execution_count": 8,
   "metadata": {},
   "outputs": [],
   "source": [
    "def cost_fn(params,ansatz,save_steps):\n",
    "    circ=ansatz.construct_circuit(parameters=params)\n",
    "    state=execute(circ,backend,shots=1024).result().get_statevector() \n",
    "    E=(numpy.conjugate(state)@Hmat@state).real\n",
    "    if save_steps==True:\n",
    "        with open('bleximo_test.txt','+a') as f:\n",
    "            Str=[\"{:0.16f}\".format(params[i].real) for i in range(len(params))]\n",
    "            print('['+','.join(Str)+']'+'#'+\"{:0.16f}\".format(E.real),file=f)\n",
    "    return E"
   ]
  },
  {
   "cell_type": "markdown",
   "metadata": {},
   "source": [
    "npj Computational Materials (2021) 7:70 ; https://doi.org/10.1038/s41524-021-00540-\n",
    "\n",
    "## Cost function for Variational quantum deflation\n",
    "$E=\\langle\\Psi|H|\\Psi\\rangle+\\beta_{0}|\\langle\\Psi_{gs-ansatz}|\\Psi\\rangle|^{2}$\n",
    "\n",
    "#### $|\\Psi_{gs-ansatz}\\rangle$ is the circuit ansatz we generate using adapt VQE"
   ]
  },
  {
   "cell_type": "code",
   "execution_count": 9,
   "metadata": {},
   "outputs": [],
   "source": [
    "def cost_fn_exc(params,ansatz,save_steps):\n",
    "    circ=ansatz.construct_circuit(parameters=params)\n",
    "    state=execute(circ,backend,shots=1024).result().get_statevector() \n",
    "    beta0=1e2\n",
    "    E=(numpy.conjugate(state)@Hmat@state).real+beta0*numpy.abs(state.conj()@gs_ansatz)**2\n",
    "    if save_steps==True:\n",
    "        with open('bleximo_test.txt','+a') as f:\n",
    "            Str=[\"{:0.16f}\".format(params[i].real) for i in range(len(params))]\n",
    "            print('['+','.join(Str)+']'+'#'+\"{:0.16f}\".format(E.real),file=f)\n",
    "    return E"
   ]
  },
  {
   "cell_type": "code",
   "execution_count": 10,
   "metadata": {},
   "outputs": [],
   "source": [
    "num_qubits=4\n",
    "#h1 is a random 4x4 hopping Hamiltonian\n",
    "qubitH,Hmat,Eg,E1,state_g,state_e,h1,h2=Hamiltonian(h1=numpy.array([[-0.15330462,  0.02091958,  0.17718115,  0.13541518],\n",
    " [ 0.02091958,  0.79703582,  0.57483787, -0.62102366],\n",
    " [ 0.17718115,  0.57483787,  0.93545435,  0.50209789],\n",
    " [ 0.13541518, -0.62102366,  0.50209789, -0.2842575 ]]))"
   ]
  },
  {
   "cell_type": "code",
   "execution_count": 11,
   "metadata": {},
   "outputs": [
    {
     "name": "stdout",
     "output_type": "stream",
     "text": [
      "(0.36004508999999996+2.7755575615628914e-17j) * II\n",
      "+ 0.6098559249999997 * ZI\n",
      "+ (0.47517022+2.7755575615628914e-17j) * IZ\n",
      "+ (0.2874189349999999+2.7755575615628914e-17j) * ZZ\n",
      "+ 0.5020978899999998 * XI\n",
      "+ 0.3105118299999999 * YI\n",
      "- 0.3105118299999999 * XZ\n",
      "+ 0.020919579999999993 * IX\n",
      "+ (0.08859057499999996+6.938893903907228e-18j) * ZX\n",
      "- 0.08859057499999996 * IY\n",
      "+ 0.06770758999999997 * XX\n",
      "+ (0.06770758999999997-6.938893903907228e-18j) * YY\n"
     ]
    }
   ],
   "source": [
    "#Hamiltonian is a Tapered Summed Pauli Operator oobtained from parity encoding and two qubit reduction\n",
    "print(qubitH)"
   ]
  },
  {
   "cell_type": "code",
   "execution_count": 12,
   "metadata": {},
   "outputs": [],
   "source": [
    "#function added for convenience to map onto weighted pauli operator of qiskit aqua package\n",
    "def _to_weighted_pauli_operator(Op):\n",
    "    weighted_op=WeightedPauliOperator([[0,Pauli('I'*(num_qubits-2))]])\n",
    "    for i in range(len(Op)):\n",
    "        List=Op[i:i+1].primitive.to_list()\n",
    "        weighted_op.add(WeightedPauliOperator([[List[0][1],Pauli(List[0][0])]]))\n",
    "    return weighted_op                   "
   ]
  },
  {
   "cell_type": "code",
   "execution_count": 13,
   "metadata": {},
   "outputs": [],
   "source": [
    "weighted_H=_to_weighted_pauli_operator(qubitH)"
   ]
  },
  {
   "cell_type": "code",
   "execution_count": 14,
   "metadata": {},
   "outputs": [
    {
     "name": "stdout",
     "output_type": "stream",
     "text": [
      "9\n",
      "pool sizes 8\n"
     ]
    }
   ],
   "source": [
    "#Hamiltonian commutator pool\n",
    "commutator_pool=commutatorPool(weighted_H,stripZs=True)\n",
    "#constructing matrices for gradient computation\n",
    "MatrixRepOfPoolOps=list(map(commutatorsForGradient,commutator_pool[1:]))\n",
    "print(\"pool sizes\",len(MatrixRepOfPoolOps))\n",
    "backend=Aer.get_backend('statevector_simulator')\n",
    "#preparing HF state\n",
    "circ=QuantumCircuit(2)\n",
    "circ.x(0)\n",
    "#initializing ansatz ref state as |10>\n",
    "var_form_base=UCCSD(4,num_particles=2, initial_state=circ,qubit_mapping='parity',two_qubit_reduction=True)\n",
    "var_form_base.manage_hopping_operators()\n",
    "error=1000"
   ]
  },
  {
   "cell_type": "markdown",
   "metadata": {},
   "source": [
    "# the function below carries out adapt VQE with a given cost fn."
   ]
  },
  {
   "cell_type": "code",
   "execution_count": 15,
   "metadata": {},
   "outputs": [],
   "source": [
    "def adapt_vqe(cost_fn,commutator_pool,var_form_base_2):\n",
    "    params=[]\n",
    "    EnergyArr=[]\n",
    "    ExcOps=[]\n",
    "    ti=time.time()\n",
    "    steps=15\n",
    "    for i in range(15):\n",
    "        save_steps=False\n",
    "        circ=var_form_base_2.construct_circuit(parameters=params)\n",
    "        state=execute(circ,backend,shots=1024).result().get_statevector()\n",
    "        grads=numpy.array(Parallel(n_jobs=1,verbose=2)(delayed(compute_gradient)(commutator_pool[i],state) for i in range(len(commutator_pool[1:]))))#qubit_pool_UCCSD))))#\n",
    "        indexes=numpy.argsort(abs(grads))[::-1][:3]\n",
    "        print(\"three highest grads\",grads[indexes[0]],grads[indexes[1]],grads[indexes[2]])\n",
    "        if ((i>=1) and (commutator_pool[1:][indexes[0]].paulis[0][1].to_label()==ExcOps[-1])):\n",
    "            chosen_id=indexes[1]\n",
    "        elif ((i>=2) and (commutator_pool[1:][indexes[0]].paulis[0][1].to_label()==ExcOps[-2])):\n",
    "            chosen_id=indexes[2]\n",
    "        else:\n",
    "            chosen_id=indexes[0]\n",
    "        PauliOp=commutator_pool[1:][chosen_id]\n",
    "        ExcOps.append(PauliOp.paulis[0][1].to_label())\n",
    "        print(\"chosen Op\",ExcOps[-1])\n",
    "        with open('bleximo_test.txt','a') as f:\n",
    "            print(\"label-\",ExcOps[-1],file=f)\n",
    "        params.append(0.0)\n",
    "        var_form_base_2.push_hopping_operator(PauliOp)\n",
    "        #construct circuit for estimating Hamiltonian\n",
    "        #res=SMO(cost_fn,params,runs=10,tol=1e-6,save_opt_steps=True)\n",
    "        #E,params=res['fun'],list(res['x'])\n",
    "        res=scipy.optimize.minimize(cost_fn_exc,params,args=(var_form_base_2,True),method='BFGS',options={'ftol':1e-7})\n",
    "        params,E=list(res['x']),res['fun']\n",
    "        print(\"num_params\",var_form_base.num_parameters)\n",
    "        print(\"Energy\",E)\n",
    "        EnergyArr.append(E)\n",
    "        print(\"time elapsed\",time.time()-ti)    \n",
    "        error=EnergyArr[-1]-Eg"
   ]
  },
  {
   "cell_type": "code",
   "execution_count": 16,
   "metadata": {},
   "outputs": [],
   "source": [
    "#This qubit-adapt VQE functionality leads to the ground state below\n",
    "\n",
    "#adapt_vqe(cost_fn,commutator_pool,var_form_base)"
   ]
  },
  {
   "cell_type": "code",
   "execution_count": 17,
   "metadata": {},
   "outputs": [],
   "source": [
    "#\n",
    "lines=[]\n",
    "with open('bleximo_test.txt','r') as f:\n",
    "    lines=f.readlines()\n",
    "    Labels=[]\n",
    "    for i in range(len(lines)):\n",
    "        if (lines[i][0]=='l'):\n",
    "            Label=lines[i].split('-')[1][1:-1]\n",
    "            Labels.append(Label)\n",
    "        if (lines[i][0]=='E'):\n",
    "            params=eval(lines[i-1])\n",
    "            break"
   ]
  },
  {
   "cell_type": "code",
   "execution_count": 18,
   "metadata": {},
   "outputs": [],
   "source": [
    "def build_parametrized_ansatz(init_circ,generators):\n",
    "    var_form_base=UCCSD(4,num_particles=2, initial_state=circ,qubit_mapping='parity',two_qubit_reduction=True)\n",
    "    var_form_base.manage_hopping_operators()\n",
    "    for i in range(len(generators)):\n",
    "        var_form_base.push_hopping_operator(WeightedPauliOperator([[1j,Pauli(generators[i])]]))\n",
    "    return var_form_base    "
   ]
  },
  {
   "cell_type": "code",
   "execution_count": 19,
   "metadata": {},
   "outputs": [],
   "source": [
    "#build parametrized circuit for gs from the data_file\n",
    "circ=QuantumCircuit(2)\n",
    "circ.x(0)\n",
    "var_form_base=build_parametrized_ansatz(circ,Labels)\n",
    "circ=var_form_base.construct_circuit(parameters=params)\n",
    "gs_ansatz=execute(circ,Aer.get_backend('statevector_simulator'),shots=1024).result().get_statevector()"
   ]
  },
  {
   "cell_type": "code",
   "execution_count": 20,
   "metadata": {},
   "outputs": [
    {
     "name": "stdout",
     "output_type": "stream",
     "text": [
      "gs energy from ansatz -1.0742140617591374\n",
      "ground state energy from exact diagonalization -1.0742140617755906\n"
     ]
    },
    {
     "data": {
      "text/plain": [
       "(None, None)"
      ]
     },
     "execution_count": 20,
     "metadata": {},
     "output_type": "execute_result"
    }
   ],
   "source": [
    "save_steps=False\n",
    "print(\"gs energy from ansatz\",cost_fn(params,var_form_base,save_steps)),print(\"ground state energy from exact diagonalization\",Eg)"
   ]
  },
  {
   "cell_type": "markdown",
   "metadata": {},
   "source": [
    "## Construct new ansatz for excited state using adaptive variational quantum deflation"
   ]
  },
  {
   "cell_type": "code",
   "execution_count": 179,
   "metadata": {},
   "outputs": [],
   "source": [
    "exc_var_form_base=UCCSD(4,num_particles=2, initial_state=circ,qubit_mapping='parity',two_qubit_reduction=True)\n",
    "exc_var_form_base.manage_hopping_operators()"
   ]
  },
  {
   "cell_type": "code",
   "execution_count": 37,
   "metadata": {},
   "outputs": [],
   "source": [
    "#implemeting VQD in the adaptive route\n",
    "adapt_vqe(cost_fn_exc,commutator_pool,exc_var_form_base)"
   ]
  },
  {
   "cell_type": "code",
   "execution_count": 21,
   "metadata": {},
   "outputs": [],
   "source": [
    "#\n",
    "lines=[]\n",
    "with open('bleximo_test.txt','r') as f:\n",
    "    lines=f.readlines()\n",
    "    Labels=[]\n",
    "    numCXarr=[]\n",
    "    numCX=0\n",
    "    Energy_gs_arr=[]\n",
    "    for i in range(len(lines)):\n",
    "        if (lines[i][0]=='l'):\n",
    "            Label=lines[i].split('-')[1][1:-1]\n",
    "            Labels.append(Label)\n",
    "            numCX=numCX+(2*count_gates(Labels[-1])-1)\n",
    "            numCXarr.append(numCX)\n",
    "            Energy_gs_arr.append(eval(lines[i+1].split('#')[1]))\n",
    "        if (lines[i][0]=='E'):\n",
    "            Energy_gs_arr.append(eval(lines[i-1].split('#')[1]))\n",
    "            params=eval(lines[i-1])\n",
    "            break"
   ]
  },
  {
   "cell_type": "code",
   "execution_count": 22,
   "metadata": {},
   "outputs": [
    {
     "data": {
      "text/plain": [
       "([-0.118364709081987,\n",
       "  -0.1183647090819871,\n",
       "  -0.1537275387087862,\n",
       "  -0.5672657535381151,\n",
       "  -0.6021422095724944,\n",
       "  -1.0142107581272306,\n",
       "  -1.0719461702480686,\n",
       "  -1.074214052233935],\n",
       " [3, 4, 5, 6, 9, 10, 11])"
      ]
     },
     "execution_count": 22,
     "metadata": {},
     "output_type": "execute_result"
    }
   ],
   "source": [
    "Energy_gs_arr,numCXarr"
   ]
  },
  {
   "cell_type": "code",
   "execution_count": 206,
   "metadata": {},
   "outputs": [],
   "source": [
    "\n",
    "#initializing ansatz ref state as |10>\n",
    "exc_var_form_base=UCCSD(4,num_particles=2, initial_state=circ,qubit_mapping='parity',two_qubit_reduction=True)\n",
    "exc_var_form_base.manage_hopping_operators()\n",
    "exc_var_form_base=build_parametrized_ansatz(circ,Labels)"
   ]
  },
  {
   "cell_type": "code",
   "execution_count": 207,
   "metadata": {},
   "outputs": [
    {
     "data": {
      "text/plain": [
       "7"
      ]
     },
     "execution_count": 207,
     "metadata": {},
     "output_type": "execute_result"
    }
   ],
   "source": [
    "exc_var_form_base.num_parameters"
   ]
  },
  {
   "cell_type": "code",
   "execution_count": 213,
   "metadata": {},
   "outputs": [],
   "source": [
    "#build parametrized circuit for excited state from the data_file\n",
    "exc_var_form_base=build_parametrized_ansatz(circ,Labels)\n",
    "exc_circ=exc_var_form_base.construct_circuit(parameters=params)\n",
    "exc_ansatz=execute(exc_circ,Aer.get_backend('statevector_simulator'),shots=1024).result().get_statevector()"
   ]
  },
  {
   "cell_type": "code",
   "execution_count": 12,
   "metadata": {},
   "outputs": [],
   "source": [
    "# save_steps=False\n",
    "# print(\"exc energy from ansatz\",cost_fn(params,exc_var_form_base,save_steps)),print(\"exc state energy from exact diagonalization\",Eg)"
   ]
  },
  {
   "cell_type": "code",
   "execution_count": 26,
   "metadata": {},
   "outputs": [],
   "source": [
    "lines=[]\n",
    "with open('bleximo_test.txt','r') as f:\n",
    "    lines=f.readlines()\n",
    "    Labels=[]\n",
    "    numCXarr1=[]\n",
    "    numCX=numCXarr[-1]\n",
    "    flag=0\n",
    "    Energy_exc_arr=[]\n",
    "    for i in range(len(lines)):\n",
    "        if ((lines[i][0]=='E') or (flag==1)):\n",
    "            flag=1\n",
    "            if lines[i][0]=='l':\n",
    "                Label=lines[i].split('-')[1][1:-1]\n",
    "                Labels.append(Label)\n",
    "                numCX=numCX+(2*count_gates(Labels[-1])-1)\n",
    "                numCXarr1.append(numCX)\n",
    "                \n",
    "                params=eval(lines[i+1])\n",
    "                Energy_exc_arr.append(eval(lines[i+1].split('#')[1][:-1]))\n",
    "    Energy_exc_arr.append(eval(lines[-1].split('#')[1][:-1]))      "
   ]
  },
  {
   "cell_type": "code",
   "execution_count": 27,
   "metadata": {},
   "outputs": [
    {
     "data": {
      "text/plain": [
       "([98.92578593824084,\n",
       "  98.92578593824084,\n",
       "  98.92578593824084,\n",
       "  98.92578593824082,\n",
       "  98.92578593824084,\n",
       "  98.92578593824084,\n",
       "  98.92578593824082,\n",
       "  98.92578593824082,\n",
       "  0.4872839253391934,\n",
       "  0.157075888967542,\n",
       "  -0.1076732179012416],\n",
       " [12, 15, 18, 19, 22, 25, 26, 29, 32, 33])"
      ]
     },
     "execution_count": 27,
     "metadata": {},
     "output_type": "execute_result"
    }
   ],
   "source": [
    "Energy_exc_arr,numCXarr1"
   ]
  },
  {
   "cell_type": "code",
   "execution_count": 28,
   "metadata": {},
   "outputs": [
    {
     "name": "stdout",
     "output_type": "stream",
     "text": [
      "exc energy from ansatz -0.1076732179012416\n",
      "exc state energy from exact diagonalization -0.10767321790239351\n"
     ]
    },
    {
     "data": {
      "text/plain": [
       "(None, None)"
      ]
     },
     "execution_count": 28,
     "metadata": {},
     "output_type": "execute_result"
    }
   ],
   "source": [
    "save_steps=False\n",
    "print(\"exc energy from ansatz\",Energy_exc_arr[-1]),print(\"exc state energy from exact diagonalization\",E1)"
   ]
  },
  {
   "cell_type": "code",
   "execution_count": 28,
   "metadata": {},
   "outputs": [],
   "source": [
    "import matplotlib.pyplot as plt"
   ]
  },
  {
   "cell_type": "code",
   "execution_count": 34,
   "metadata": {},
   "outputs": [
    {
     "data": {
      "image/png": "[encoded data removed]",
      "text/plain": [
       "<Figure size 432x288 with 1 Axes>"
      ]
     },
     "metadata": {
      "needs_background": "light"
     },
     "output_type": "display_data"
    }
   ],
   "source": [
    "fig,ax=plt.subplots(1,1)\n",
    "ax.set_xlabel(\"num. of CXs\",fontsize=15)\n",
    "ax.set_ylabel(r'$|E_{ansatz}-Eg|$',fontsize=15)\n",
    "ax.plot(numCXarr,Energy_gs_arr[1:]-Eg,marker='o')\n",
    "ax.tick_params(labelsize=15)\n",
    "ax.set_yscale('log')\n"
   ]
  },
  {
   "cell_type": "code",
   "execution_count": 36,
   "metadata": {},
   "outputs": [
    {
     "data": {
      "image/png": "[encoded data removed]",
      "text/plain": [
       "<Figure size 432x288 with 1 Axes>"
      ]
     },
     "metadata": {
      "needs_background": "light"
     },
     "output_type": "display_data"
    }
   ],
   "source": [
    "fig,ax=plt.subplots(1,1)\n",
    "ax.set_xlabel(\"num. of CXs\",fontsize=15)\n",
    "ax.set_ylabel(r'$|E_{ansatz}+\\beta |\\langle \\Psi_{g}|\\Psi\\rangle|^{2}-E_{exc}|$',fontsize=15)\n",
    "ax.plot(numCXarr1,Energy_exc_arr[1:]-Eg,marker='o')\n",
    "ax.tick_params(labelsize=15)\n",
    "ax.set_yscale('log')"
   ]
  },
  {
   "cell_type": "code",
   "execution_count": null,
   "metadata": {},
   "outputs": [],
   "source": []
  }
 ],
 "metadata": {
  "kernelspec": {
   "display_name": "Python 3",
   "language": "python",
   "name": "python3"
  },
  "language_info": {
   "codemirror_mode": {
    "name": "ipython",
    "version": 3
   },
   "file_extension": ".py",
   "mimetype": "text/x-python",
   "name": "python",
   "nbconvert_exporter": "python",
   "pygments_lexer": "ipython3",
   "version": "3.8.3"
  }
 },
 "nbformat": 4,
 "nbformat_minor": 4
}
